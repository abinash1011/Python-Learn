{
  "nbformat": 4,
  "nbformat_minor": 0,
  "metadata": {
    "colab": {
      "name": "GMeet_join_bot.ipynb",
      "provenance": [],
      "authorship_tag": "ABX9TyPUu60ZZV0bE+QMpx4lZrEP",
      "include_colab_link": true
    },
    "kernelspec": {
      "name": "python3",
      "display_name": "Python 3"
    },
    "language_info": {
      "name": "python"
    }
  },
  "cells": [
    {
      "cell_type": "markdown",
      "metadata": {
        "id": "view-in-github",
        "colab_type": "text"
      },
      "source": [
        "<a href=\"https://colab.research.google.com/github/abinash1011/Python-Learn/blob/main/Google_Meet_join_bot.ipynb\" target=\"_parent\"><img src=\"https://colab.research.google.com/assets/colab-badge.svg\" alt=\"Open In Colab\"/></a>"
      ]
    },
    {
      "cell_type": "markdown",
      "metadata": {
        "id": "kBgc6rrGkFSP"
      },
      "source": [
        "**GOOGLE MEET JOINING BOT**\n",
        "\n",
        "---\n",
        "-> Creates a new tab in an open browser window\n",
        "\n",
        "-> Goes to the meeting link\n",
        "\n",
        "-> Mutes Camera and Microphone\n",
        "\n",
        "-> Joins the meeting\n"
      ]
    },
    {
      "cell_type": "code",
      "metadata": {
        "id": "UkVjMwmsihgM"
      },
      "source": [
        "from time import sleep\n",
        "import pyautogui as auto\n",
        "import schedule, webbrowser\n",
        "\n",
        "link = \"Link\"\n",
        "\n",
        "time = \"hr:min\" \n",
        "\n",
        "def join():\n",
        "    webbrowser.open_new_tab('https://' + link)\n",
        "    sleep(7)\n",
        "    auto.hotkey('ctrl', 'd')\n",
        "    auto.hotkey('ctrl', 'e')\n",
        "    auto.click(1034, 569)\n",
        "\n",
        "\n",
        "schedule.every().day.at(time).do(join)\n",
        "\n",
        "while True:\n",
        "    schedule.run_pending()\n",
        "    sleep(1)\n"
      ],
      "execution_count": null,
      "outputs": []
    },
    {
      "cell_type": "markdown",
      "metadata": {
        "id": "wxeDbgJ8YMs2"
      },
      "source": [
        "### **Finding the location of the \"JOIN\" button**"
      ]
    },
    {
      "cell_type": "code",
      "metadata": {
        "id": "U1EjWVZE3eSf"
      },
      "source": [
        "import pyautogui\n",
        "import time\n",
        "while 1 :\n",
        "    print(pyautogui.position())\n",
        "    time.sleep(1)"
      ],
      "execution_count": null,
      "outputs": []
    }
  ]
}